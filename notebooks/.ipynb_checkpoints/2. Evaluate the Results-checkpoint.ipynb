{
 "cells": [
  {
   "cell_type": "markdown",
   "id": "be06f11e",
   "metadata": {},
   "source": [
    "# Evaluate the two runs with `trec_eval`\n",
    "\n",
    "This notebook shows how `trec_eval` can be used to compute the nDCG\n",
    "Prerequisite: command line tool `trec_eval` installed. Check out https://aldolipani.com/trec_eval-installation-usage-and-behaviour/ for guidance if you don't have it installed already.\n",
    "\n",
    "The following assumes that the results of the different runs are located in these files:\n",
    "* `../data/default_result`\n",
    "* `../data/boost_embimg_result`\n",
    "* `../data/match_embimg_result`\n",
    "* `../data/boost_embtxt_result`\n",
    "* `../data/match_embtxt_result`"
   ]
  },
  {
   "cell_type": "code",
   "execution_count": 25,
   "id": "d3cae1be",
   "metadata": {
    "scrolled": true
   },
   "outputs": [
    {
     "name": "stdout",
     "output_type": "stream",
     "text": [
      "trec_eval.get_results: Cannot read results file '../data/default'\r\n",
      "trec_eval: Quit in file '../data/default'\r\n"
     ]
    }
   ],
   "source": [
    "!trec_eval ../data/ratings.qrels ../data/default -m ndcg_cut"
   ]
  },
  {
   "cell_type": "raw",
   "id": "6f52020d",
   "metadata": {},
   "source": [
    "!trec_eval ../data/ratings.qrels ../data/boost_embimg_result -m ndcg_cut"
   ]
  },
  {
   "cell_type": "code",
   "execution_count": 21,
   "id": "d1e2174e",
   "metadata": {},
   "outputs": [
    {
     "name": "stdout",
     "output_type": "stream",
     "text": [
      "ndcg_cut_5            \tall\t0.2811\r\n",
      "ndcg_cut_10           \tall\t0.2660\r\n",
      "ndcg_cut_15           \tall\t0.2316\r\n",
      "ndcg_cut_20           \tall\t0.2161\r\n",
      "ndcg_cut_30           \tall\t0.2022\r\n",
      "ndcg_cut_100          \tall\t0.1954\r\n",
      "ndcg_cut_200          \tall\t0.1954\r\n",
      "ndcg_cut_500          \tall\t0.1954\r\n",
      "ndcg_cut_1000         \tall\t0.1954\r\n"
     ]
    }
   ],
   "source": [
    "!trec_eval ../data/ratings.qrels ../data/match_embimg_result -m ndcg_cut"
   ]
  },
  {
   "cell_type": "code",
   "execution_count": 22,
   "id": "b40044f0",
   "metadata": {},
   "outputs": [
    {
     "name": "stdout",
     "output_type": "stream",
     "text": [
      "ndcg_cut_5            \tall\t0.6341\r\n",
      "ndcg_cut_10           \tall\t0.6115\r\n",
      "ndcg_cut_15           \tall\t0.5292\r\n",
      "ndcg_cut_20           \tall\t0.4912\r\n",
      "ndcg_cut_30           \tall\t0.4573\r\n",
      "ndcg_cut_100          \tall\t0.4404\r\n",
      "ndcg_cut_200          \tall\t0.4404\r\n",
      "ndcg_cut_500          \tall\t0.4404\r\n",
      "ndcg_cut_1000         \tall\t0.4404\r\n"
     ]
    }
   ],
   "source": [
    "!trec_eval ../data/ratings.qrels ../data/boost_embtxt_result -m ndcg_cut"
   ]
  },
  {
   "cell_type": "code",
   "execution_count": 23,
   "id": "aec3c105",
   "metadata": {},
   "outputs": [
    {
     "name": "stdout",
     "output_type": "stream",
     "text": [
      "ndcg_cut_5            \tall\t0.3562\r\n",
      "ndcg_cut_10           \tall\t0.3549\r\n",
      "ndcg_cut_15           \tall\t0.3076\r\n",
      "ndcg_cut_20           \tall\t0.2858\r\n",
      "ndcg_cut_30           \tall\t0.2662\r\n",
      "ndcg_cut_100          \tall\t0.2570\r\n",
      "ndcg_cut_200          \tall\t0.2570\r\n",
      "ndcg_cut_500          \tall\t0.2570\r\n",
      "ndcg_cut_1000         \tall\t0.2570\r\n"
     ]
    }
   ],
   "source": [
    "!trec_eval ../data/ratings.qrels ../data/match_embtxt_result -m ndcg_cut"
   ]
  },
  {
   "cell_type": "code",
   "execution_count": null,
   "id": "446fbe53",
   "metadata": {},
   "outputs": [],
   "source": []
  }
 ],
 "metadata": {
  "kernelspec": {
   "display_name": "Python 3 (ipykernel)",
   "language": "python",
   "name": "python3"
  },
  "language_info": {
   "codemirror_mode": {
    "name": "ipython",
    "version": 3
   },
   "file_extension": ".py",
   "mimetype": "text/x-python",
   "name": "python",
   "nbconvert_exporter": "python",
   "pygments_lexer": "ipython3",
   "version": "3.10.11"
  }
 },
 "nbformat": 4,
 "nbformat_minor": 5
}
