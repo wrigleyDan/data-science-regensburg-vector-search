{
 "cells": [
  {
   "cell_type": "markdown",
   "id": "c376b147",
   "metadata": {},
   "source": [
    "# Query Elasticsearch, store results in `trec_eval` format\n",
    "\n",
    "Environment used: Chorus - The Elasticsearch Edition available at https://github.com/querqy/chorus-elasticsearch-edition\n",
    "\n",
    "To succesfully follow the steps, clone the repository and run the quickstart:\n",
    "\n",
    "`git clone https://github.com/querqy/chorus-elasticsearch-edition`\n",
    "\n",
    "`cd chorus-elasticsearch-edition`\n",
    "\n",
    "`./quickstart.sh -vector`"
   ]
  },
  {
   "cell_type": "markdown",
   "id": "3be743d1",
   "metadata": {},
   "source": [
    "## Install Elasticsearch Python Client"
   ]
  },
  {
   "cell_type": "code",
   "execution_count": null,
   "id": "5ec0f9cc",
   "metadata": {},
   "outputs": [],
   "source": [
    "!python3 -m pip install elasticsearch"
   ]
  },
  {
   "cell_type": "markdown",
   "id": "e0c6aaec",
   "metadata": {},
   "source": [
    "## Import libraries"
   ]
  },
  {
   "cell_type": "code",
   "execution_count": null,
   "id": "5ec3597e",
   "metadata": {},
   "outputs": [],
   "source": [
    "from elasticsearch import Elasticsearch\n",
    "import numpy as np\n",
    "import pandas as pd\n",
    "import json"
   ]
  },
  {
   "cell_type": "markdown",
   "id": "cdc6297d",
   "metadata": {},
   "source": [
    "## Query Elasticsearch and check connection"
   ]
  },
  {
   "cell_type": "code",
   "execution_count": null,
   "id": "3c6a9f6c",
   "metadata": {
    "scrolled": true
   },
   "outputs": [],
   "source": [
    "es = Elasticsearch(\"http://localhost:9200\")\n",
    "\n",
    "resp = es.search(index=\"ecommerce\", query={\n",
    "    \"querqy\": {\n",
    "      \"matching_query\": {\n",
    "        \"query\": \"laptop\"\n",
    "      },\n",
    "      \"query_fields\": [\n",
    "        \"id\",\n",
    "        \"name\",\n",
    "        \"title^15\",\n",
    "        \"product_type^10\",\n",
    "        \"short_description^5\",\n",
    "        \"ean\",\n",
    "        \"search_attributes\"\n",
    "      ],\n",
    "      \"rewriters\": [\n",
    "        \"replace\",\n",
    "        \"common_rules\"\n",
    "      ]\n",
    "    }\n",
    "  })\n",
    "print(\"Got %d Hits:\" % resp['hits']['total']['value'])\n",
    "for hit in resp['hits']['hits']:\n",
    "    print(\"%(id)s %(title)s: %(name)s\" % hit[\"_source\"])"
   ]
  },
  {
   "cell_type": "markdown",
   "id": "c2d820f3",
   "metadata": {},
   "source": [
    "## Read list of queries and get results from Elasticsearch for each"
   ]
  },
  {
   "cell_type": "code",
   "execution_count": null,
   "id": "b0a5be8d",
   "metadata": {},
   "outputs": [],
   "source": [
    "df_relevance = pd.DataFrame()\n",
    "\n",
    "df_queries = pd.read_csv('../data/queries.txt', sep=\"\\t\", header=None)\n",
    "\n",
    "for query in df_queries.itertuples():\n",
    "    \n",
    "    resp = es.search(index=\"ecommerce\", query={\n",
    "    \"querqy\": {\n",
    "      \"matching_query\": {\n",
    "        \"query\": query[2]\n",
    "      },\n",
    "      \"query_fields\": [\n",
    "        \"id\",\n",
    "        \"name\",\n",
    "        \"title^15\",\n",
    "        \"product_type^10\",\n",
    "        \"short_description^5\",\n",
    "        \"ean\",\n",
    "        \"search_attributes\"\n",
    "      ],\n",
    "      \"rewriters\": [\n",
    "        \"replace\",\n",
    "        \"common_rules\"\n",
    "      ]\n",
    "    }\n",
    "  })\n",
    "    #for i in range (0, 10):\n",
    "    position = 0\n",
    "    for hit in resp['hits']['hits']:\n",
    "        # create a new row for the DataFrame and append it\n",
    "        row = { 'query_id' : str(query[1]), 'Q0' : \"Q0\", 'product_id' : hit[\"_id\"], 'position' : str(position), 'relevance' : hit[\"_score\"], 'run': 'es' }\n",
    "        df_relevance = df_relevance.append(row, ignore_index=True)\n",
    "        #print(\"%(id)s %(title)s: %(name)s\" % hit[\"_source\"])\n",
    "        position += 1\n",
    "    \n",
    "# store the DataFrame without header and index, with tabs as delimiters\n",
    "name = '../data/es_result'\n",
    "df_relevance.to_csv(name, sep=\"\\t\", header=False, index=False)\n",
    "df_relevance\n",
    "# work with two for loops:\n",
    "# 1) one to iterate over the list of queries and have a query id instead of a query\n",
    "# 2) another one to iterate over the result sets to have the position of the result in the result set \n",
    "\n",
    "# DataFrame with columns:\n",
    "# query_id: the id of the query as the trec_eval tool needs a numeric id rather than a query string as an identifier\n",
    "# Q0: all lines have Q0, currently unused by trec_eval\n",
    "# product_id: the id of the product in the hit list\n",
    "# position: the position of the product in the result set\n",
    "# relevance: relevance as given by the search engine, BM25 score in the case of Elasticsearch\n",
    "# run: the name of the query run"
   ]
  }
 ],
 "metadata": {
  "kernelspec": {
   "display_name": "Python 3 (ipykernel)",
   "language": "python",
   "name": "python3"
  },
  "language_info": {
   "codemirror_mode": {
    "name": "ipython",
    "version": 3
   },
   "file_extension": ".py",
   "mimetype": "text/x-python",
   "name": "python",
   "nbconvert_exporter": "python",
   "pygments_lexer": "ipython3",
   "version": "3.10.11"
  }
 },
 "nbformat": 4,
 "nbformat_minor": 5
}
