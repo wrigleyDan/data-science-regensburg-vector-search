{
 "cells": [
  {
   "cell_type": "markdown",
   "id": "8533bd1d",
   "metadata": {},
   "source": [
    "# Transform Ratings\n",
    "\n",
    "This notebook takes the rated broad query set from Chorus (extended for this talk) and generates two output files:\n",
    "1) a file with ratings in a format the trec_eval tool can use to evaluate the relevance of our competing search engines.\n",
    "2) a file with the queries that can be used as the input for the evaluation runs."
   ]
  },
  {
   "cell_type": "code",
   "execution_count": 1,
   "id": "b41c6624",
   "metadata": {},
   "outputs": [],
   "source": [
    "import pandas as pd"
   ]
  },
  {
   "cell_type": "markdown",
   "id": "f8bf7827",
   "metadata": {},
   "source": [
    "## Get the broad set of rated queries"
   ]
  },
  {
   "cell_type": "code",
   "execution_count": 3,
   "id": "4468c53f",
   "metadata": {},
   "outputs": [
    {
     "data": {
      "text/html": [
       "<div>\n",
       "<style scoped>\n",
       "    .dataframe tbody tr th:only-of-type {\n",
       "        vertical-align: middle;\n",
       "    }\n",
       "\n",
       "    .dataframe tbody tr th {\n",
       "        vertical-align: top;\n",
       "    }\n",
       "\n",
       "    .dataframe thead th {\n",
       "        text-align: right;\n",
       "    }\n",
       "</style>\n",
       "<table border=\"1\" class=\"dataframe\">\n",
       "  <thead>\n",
       "    <tr style=\"text-align: right;\">\n",
       "      <th></th>\n",
       "      <th>query</th>\n",
       "      <th>docid</th>\n",
       "      <th>rating</th>\n",
       "    </tr>\n",
       "  </thead>\n",
       "  <tbody>\n",
       "    <tr>\n",
       "      <th>0</th>\n",
       "      <td>laptop</td>\n",
       "      <td>1229111</td>\n",
       "      <td>0</td>\n",
       "    </tr>\n",
       "    <tr>\n",
       "      <th>1</th>\n",
       "      <td>laptop</td>\n",
       "      <td>2060476</td>\n",
       "      <td>0</td>\n",
       "    </tr>\n",
       "    <tr>\n",
       "      <th>2</th>\n",
       "      <td>laptop</td>\n",
       "      <td>77026839</td>\n",
       "      <td>0</td>\n",
       "    </tr>\n",
       "    <tr>\n",
       "      <th>3</th>\n",
       "      <td>laptop</td>\n",
       "      <td>77311847</td>\n",
       "      <td>0</td>\n",
       "    </tr>\n",
       "    <tr>\n",
       "      <th>4</th>\n",
       "      <td>laptop</td>\n",
       "      <td>77026550</td>\n",
       "      <td>0</td>\n",
       "    </tr>\n",
       "    <tr>\n",
       "      <th>...</th>\n",
       "      <td>...</td>\n",
       "      <td>...</td>\n",
       "      <td>...</td>\n",
       "    </tr>\n",
       "    <tr>\n",
       "      <th>4914</th>\n",
       "      <td>xbox one</td>\n",
       "      <td>2077</td>\n",
       "      <td>0</td>\n",
       "    </tr>\n",
       "    <tr>\n",
       "      <th>4915</th>\n",
       "      <td>xbox one</td>\n",
       "      <td>2076</td>\n",
       "      <td>0</td>\n",
       "    </tr>\n",
       "    <tr>\n",
       "      <th>4916</th>\n",
       "      <td>xbox one</td>\n",
       "      <td>49586</td>\n",
       "      <td>0</td>\n",
       "    </tr>\n",
       "    <tr>\n",
       "      <th>4917</th>\n",
       "      <td>xbox one</td>\n",
       "      <td>1691602</td>\n",
       "      <td>0</td>\n",
       "    </tr>\n",
       "    <tr>\n",
       "      <th>4918</th>\n",
       "      <td>xbox one</td>\n",
       "      <td>1319652</td>\n",
       "      <td>0</td>\n",
       "    </tr>\n",
       "  </tbody>\n",
       "</table>\n",
       "<p>4919 rows × 3 columns</p>\n",
       "</div>"
      ],
      "text/plain": [
       "         query     docid  rating\n",
       "0       laptop   1229111       0\n",
       "1       laptop   2060476       0\n",
       "2       laptop  77026839       0\n",
       "3       laptop  77311847       0\n",
       "4       laptop  77026550       0\n",
       "...        ...       ...     ...\n",
       "4914  xbox one      2077       0\n",
       "4915  xbox one      2076       0\n",
       "4916  xbox one     49586       0\n",
       "4917  xbox one   1691602       0\n",
       "4918  xbox one   1319652       0\n",
       "\n",
       "[4919 rows x 3 columns]"
      ]
     },
     "execution_count": 3,
     "metadata": {},
     "output_type": "execute_result"
    }
   ],
   "source": [
    "df_rated_queries = pd.read_csv('../data/Broad_Query_Set_rated_extended.csv')\n",
    "df_rated_queries"
   ]
  },
  {
   "cell_type": "markdown",
   "id": "323e024c",
   "metadata": {},
   "source": [
    "## Group by queries and export to a file with the index to have queries and query ids"
   ]
  },
  {
   "cell_type": "code",
   "execution_count": 4,
   "id": "bd92be40",
   "metadata": {},
   "outputs": [],
   "source": [
    "#df_queries = df_rated_queries['query']\n",
    "df_queries = df_rated_queries.groupby(by='query', as_index=False).agg({\n",
    "    'rating': ['count']\n",
    "})\n",
    "df_query_idx = df_queries['query']\n",
    "name = '../data/queries.txt'\n",
    "\n",
    "df_query_idx.to_csv(name, sep=\"\\t\", header=False)"
   ]
  },
  {
   "cell_type": "markdown",
   "id": "a71245ce",
   "metadata": {},
   "source": [
    "## Go through the queries and update the original ratings with the query ids"
   ]
  },
  {
   "cell_type": "code",
   "execution_count": 5,
   "id": "f1461aa4",
   "metadata": {},
   "outputs": [
    {
     "name": "stderr",
     "output_type": "stream",
     "text": [
      "/var/folders/t9/3d8197ns54zbbysmd_lpngvr0000gn/T/ipykernel_82451/1984911563.py:1: FutureWarning: iteritems is deprecated and will be removed in a future version. Use .items instead.\n",
      "  for idx, row in df_query_idx.iteritems():\n"
     ]
    }
   ],
   "source": [
    "for idx, row in df_query_idx.iteritems():\n",
    "    df_rated_queries.loc[df_rated_queries['query'] == row, \"idx\"] = str(idx)\n",
    "\n",
    "    \n",
    "df_rated_queries['Q0'] = 0\n",
    "df_ratings = df_rated_queries[['idx', 'Q0', 'docid', 'rating']]"
   ]
  },
  {
   "cell_type": "markdown",
   "id": "48a92878",
   "metadata": {},
   "source": [
    "## Save ratings to file"
   ]
  },
  {
   "cell_type": "code",
   "execution_count": 6,
   "id": "cb15902a",
   "metadata": {},
   "outputs": [
    {
     "data": {
      "text/html": [
       "<div>\n",
       "<style scoped>\n",
       "    .dataframe tbody tr th:only-of-type {\n",
       "        vertical-align: middle;\n",
       "    }\n",
       "\n",
       "    .dataframe tbody tr th {\n",
       "        vertical-align: top;\n",
       "    }\n",
       "\n",
       "    .dataframe thead th {\n",
       "        text-align: right;\n",
       "    }\n",
       "</style>\n",
       "<table border=\"1\" class=\"dataframe\">\n",
       "  <thead>\n",
       "    <tr style=\"text-align: right;\">\n",
       "      <th></th>\n",
       "      <th>idx</th>\n",
       "      <th>Q0</th>\n",
       "      <th>docid</th>\n",
       "      <th>rating</th>\n",
       "    </tr>\n",
       "  </thead>\n",
       "  <tbody>\n",
       "    <tr>\n",
       "      <th>0</th>\n",
       "      <td>66</td>\n",
       "      <td>0</td>\n",
       "      <td>1229111</td>\n",
       "      <td>0</td>\n",
       "    </tr>\n",
       "    <tr>\n",
       "      <th>1</th>\n",
       "      <td>66</td>\n",
       "      <td>0</td>\n",
       "      <td>2060476</td>\n",
       "      <td>0</td>\n",
       "    </tr>\n",
       "    <tr>\n",
       "      <th>2</th>\n",
       "      <td>66</td>\n",
       "      <td>0</td>\n",
       "      <td>77026839</td>\n",
       "      <td>0</td>\n",
       "    </tr>\n",
       "    <tr>\n",
       "      <th>3</th>\n",
       "      <td>66</td>\n",
       "      <td>0</td>\n",
       "      <td>77311847</td>\n",
       "      <td>0</td>\n",
       "    </tr>\n",
       "    <tr>\n",
       "      <th>4</th>\n",
       "      <td>66</td>\n",
       "      <td>0</td>\n",
       "      <td>77026550</td>\n",
       "      <td>0</td>\n",
       "    </tr>\n",
       "    <tr>\n",
       "      <th>...</th>\n",
       "      <td>...</td>\n",
       "      <td>...</td>\n",
       "      <td>...</td>\n",
       "      <td>...</td>\n",
       "    </tr>\n",
       "    <tr>\n",
       "      <th>4914</th>\n",
       "      <td>133</td>\n",
       "      <td>0</td>\n",
       "      <td>2077</td>\n",
       "      <td>0</td>\n",
       "    </tr>\n",
       "    <tr>\n",
       "      <th>4915</th>\n",
       "      <td>133</td>\n",
       "      <td>0</td>\n",
       "      <td>2076</td>\n",
       "      <td>0</td>\n",
       "    </tr>\n",
       "    <tr>\n",
       "      <th>4916</th>\n",
       "      <td>133</td>\n",
       "      <td>0</td>\n",
       "      <td>49586</td>\n",
       "      <td>0</td>\n",
       "    </tr>\n",
       "    <tr>\n",
       "      <th>4917</th>\n",
       "      <td>133</td>\n",
       "      <td>0</td>\n",
       "      <td>1691602</td>\n",
       "      <td>0</td>\n",
       "    </tr>\n",
       "    <tr>\n",
       "      <th>4918</th>\n",
       "      <td>133</td>\n",
       "      <td>0</td>\n",
       "      <td>1319652</td>\n",
       "      <td>0</td>\n",
       "    </tr>\n",
       "  </tbody>\n",
       "</table>\n",
       "<p>4919 rows × 4 columns</p>\n",
       "</div>"
      ],
      "text/plain": [
       "      idx  Q0     docid  rating\n",
       "0      66   0   1229111       0\n",
       "1      66   0   2060476       0\n",
       "2      66   0  77026839       0\n",
       "3      66   0  77311847       0\n",
       "4      66   0  77026550       0\n",
       "...   ...  ..       ...     ...\n",
       "4914  133   0      2077       0\n",
       "4915  133   0      2076       0\n",
       "4916  133   0     49586       0\n",
       "4917  133   0   1691602       0\n",
       "4918  133   0   1319652       0\n",
       "\n",
       "[4919 rows x 4 columns]"
      ]
     },
     "execution_count": 6,
     "metadata": {},
     "output_type": "execute_result"
    }
   ],
   "source": [
    "name = '../data/ratings.qrels'\n",
    "\n",
    "df_ratings.to_csv(name, sep=\"\\t\", header=False, index=False)\n",
    "df_ratings"
   ]
  },
  {
   "cell_type": "code",
   "execution_count": null,
   "id": "7293af4e",
   "metadata": {},
   "outputs": [],
   "source": []
  }
 ],
 "metadata": {
  "kernelspec": {
   "display_name": "Python 3 (ipykernel)",
   "language": "python",
   "name": "python3"
  },
  "language_info": {
   "codemirror_mode": {
    "name": "ipython",
    "version": 3
   },
   "file_extension": ".py",
   "mimetype": "text/x-python",
   "name": "python",
   "nbconvert_exporter": "python",
   "pygments_lexer": "ipython3",
   "version": "3.10.11"
  }
 },
 "nbformat": 4,
 "nbformat_minor": 5
}
