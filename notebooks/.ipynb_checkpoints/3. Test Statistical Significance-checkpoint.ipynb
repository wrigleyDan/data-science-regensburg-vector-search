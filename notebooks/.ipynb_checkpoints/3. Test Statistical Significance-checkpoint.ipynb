{
 "cells": [
  {
   "cell_type": "markdown",
   "id": "f90a1ee9",
   "metadata": {},
   "source": [
    "# Statistical Significance\n",
    "\n",
    "This notebook is an example of how two `trec_eval` runs can be used to measure if the results they produced are statistically significant.\n",
    "It assumes that you have two files containing the results of the two runs:\n",
    "\n",
    "* `es_result.qrels`\n",
    "\n",
    "* `jina_result.qrels`\n",
    "\n",
    "\n",
    "\n",
    "The example to test the statistical significance is adapted from https://github.com/cvangysel/pytrec_eval/blob/master/examples/statistical_significance.py\n",
    "\n",
    "It uses `pytrec_eval`, a Python interface for trec_eval."
   ]
  },
  {
   "cell_type": "markdown",
   "id": "6784492a",
   "metadata": {},
   "source": [
    "## Install `pytrec_eval`"
   ]
  },
  {
   "cell_type": "code",
   "execution_count": null,
   "id": "eee7e9f2",
   "metadata": {
    "scrolled": false
   },
   "outputs": [],
   "source": [
    "!pip install pytrec_eval"
   ]
  },
  {
   "cell_type": "markdown",
   "id": "7802fa35",
   "metadata": {},
   "source": [
    "## Do the necessary imports"
   ]
  },
  {
   "cell_type": "code",
   "execution_count": null,
   "id": "83691a0f",
   "metadata": {},
   "outputs": [],
   "source": [
    "import pytrec_eval\n",
    "import scipy.stats"
   ]
  },
  {
   "cell_type": "markdown",
   "id": "2b8147c3",
   "metadata": {},
   "source": [
    "## Parse the ratings & runs, calculate the t-score & p-value"
   ]
  },
  {
   "cell_type": "code",
   "execution_count": null,
   "id": "e4154ba9",
   "metadata": {},
   "outputs": [],
   "source": [
    "#open file with ratings\n",
    "with open('../data/ratings.qrels', 'r') as f_run:\n",
    "    qrel = pytrec_eval.parse_qrel(f_run)\n",
    "#open file with first run - Elasticsearch BM25 run\n",
    "with open('../data/es_result', 'r') as f_run:\n",
    "    first_run = pytrec_eval.parse_run(f_run)\n",
    "#open file with first run - vector search run\n",
    "with open('../data/jina_result', 'r') as f_run:\n",
    "    second_run = pytrec_eval.parse_run(f_run)\n",
    "\n",
    "#define evaluator to look at NDCG only and evaluate the results of the two runs\n",
    "evaluator = pytrec_eval.RelevanceEvaluator(qrel, {\"ndcg_cut\"})\n",
    "\n",
    "first_results = evaluator.evaluate(first_run)\n",
    "second_results = evaluator.evaluate(second_run)\n",
    "\n",
    "#retrieve query ids, retrieve scores for the two runs and pass them to scipy for p-value computation\n",
    "query_ids = list(set(first_results.keys()) & set(second_results.keys()))\n",
    "\n",
    "first_scores = [first_results[query_id]['ndcg_cut_10'] for query_id in query_ids]\n",
    "second_scores = [second_results[query_id]['ndcg_cut_10'] for query_id in query_ids]\n",
    "\n",
    "print(scipy.stats.ttest_rel(first_scores, second_scores))"
   ]
  }
 ],
 "metadata": {
  "kernelspec": {
   "display_name": "Python 3 (ipykernel)",
   "language": "python",
   "name": "python3"
  },
  "language_info": {
   "codemirror_mode": {
    "name": "ipython",
    "version": 3
   },
   "file_extension": ".py",
   "mimetype": "text/x-python",
   "name": "python",
   "nbconvert_exporter": "python",
   "pygments_lexer": "ipython3",
   "version": "3.10.11"
  }
 },
 "nbformat": 4,
 "nbformat_minor": 5
}
